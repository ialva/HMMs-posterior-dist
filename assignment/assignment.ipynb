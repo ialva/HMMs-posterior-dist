{
  "cells": [
    {
      "cell_type": "markdown",
      "metadata": {},
      "source": [
        "# Posterior HMM Decoding Assignment"
      ]
    },
    {
      "cell_type": "markdown",
      "metadata": {},
      "source": [
        "This is not due until after the Viterbi decoding lab. Please do not start this lab until you've completed that one."
      ]
    },
    {
      "cell_type": "markdown",
      "metadata": {},
      "source": [
        "## Part 1: Implement posterior decoding"
      ]
    },
    {
      "cell_type": "markdown",
      "metadata": {},
      "source": [
        "The file input-output and the input-output of the top level decoding function, `posterior_decode`, are the same as for the Viterbi decoding lab. The representations of HMMs is also the same. Instead of the single function `_build_matrix` from Viterbi, you will have two: `_build_forward_matrix` and `_build_backward_matrix`. You will then combine them inside `_posterior_probabilities`. `posterior_decode` calls `_posterior_probabilities` and uses the result to find the posterior path and output the corresponding state names."
      ]
    },
    {
      "cell_type": "markdown",
      "metadata": {},
      "source": [
        "Because the posterior decoding only cares about the relative probabilities of the states at each time, you can multiply all the forward probabilities for a given observation or all the backward probabilities or both by arbitrary positive constants without changing the path. Thus, you should normalize each column of the forward and backward matrices as you build them. You should also normalize the product of the two, so that at the end of the calculation you have the posterior probabilities of the states for each observation."
      ]
    },
    {
      "cell_type": "markdown",
      "metadata": {},
      "source": [
        "I suggest copying your `_build_matrix` from the Viterbi lab as the basis for `_build_forward_matrix`. Aside from renaming variables to be more appropriate, there is only one, very small, substantive change to the way entries are calculated."
      ]
    },
    {
      "cell_type": "markdown",
      "metadata": {},
      "source": [
        "You can then copy `_build_forward_matrix` as the basis for `_build_backward_matrix`. Here some substantive changes are required, but the overall structure is the same. Differences include the initialization of the row for the last observation, the fact that you count backwards from the end of the matrix, and the actual calculation of the entries at each time point."
      ]
    },
    {
      "cell_type": "markdown",
      "metadata": {},
      "source": [
        "## Part 2: Difference between Viterbi and Posterior"
      ]
    },
    {
      "cell_type": "markdown",
      "metadata": {},
      "source": [
        "**Question 1:** Does posterior decoding of \"Data/mixed2.fa\" with HMM \"Data/humanMalaria.hmm\" give a different result than Viterbi decoding? Write and evaluate your code for determining the answer in the cells below. Before you do that, copy assignment.py from your correct Viterbi assignment into this directory with the name viterbi_assignment.py (with an underscore not a hyphen). The provided code below will then load it. You can download and upload files from codespaces using the Explorer pane at the left. If you don't have a correct viterbi implementation, you should work on getting that right first."
      ]
    },
    {
      "cell_type": "code",
      "execution_count": null,
      "metadata": {},
      "outputs": [
        {
          "name": "stdout",
          "output_type": "stream",
          "text": [
            "there is  100.0  similarity between viterbi&posterior with this seq\n"
          ]
        }
      ],
      "source": [
        "# 5 points\n",
        "import os\n",
        "import numpy as np\n",
        "from cse587Autils.HMMObjects.HMM import HMM, calculate_accuracy\n",
        "from assignment import posterior_decode, posterior_probabilities\n",
        "\n",
        "# Import viterbi_decode from the local viterbi_assignment.py, which should\n",
        "# be in the same directory as this notebook. If it isn't, put it there first.\n",
        "\n",
        "from viterbi_assignment import viterbi_decode\n",
        "\n",
        "# Get the path to the Data directory\n",
        "DATA_DIR = os.path.join(os.getcwd(), \"Data\")\n",
        "\n",
        "# Load the HMM and sequence\n",
        "hmm = HMM.read_hmm_file(os.path.join(DATA_DIR, \"humanMalaria.hmm\"))\n",
        "sequences = HMM.read_fasta(os.path.join(DATA_DIR, \"mixed2.fa\"))\n",
        "observation_seq = sequences[0]\n",
        "\n",
        "# YOUR CODE HERE FOR POSTERIOR DECODE, VITERBI DECODE, AND COMPARISON\n",
        "\n",
        "posterior_seq = posterior_decode(observation_seq,hmm)\n",
        "viterbi_seq = viterbi_decode(observation_seq,hmm)\n",
        "\n",
        "lenth = len(posterior_seq)\n",
        "same = 0\n",
        "\n",
        "for i in range(lenth):\n",
        "    if(posterior_seq[i] == viterbi_seq[i]):\n",
        "        same+=1\n",
        "\n",
        "percent_agree = (same) / lenth *100\n",
        "\n",
        "\n",
        "print(\"there is \",percent_agree,\" similarity between viterbi & posterior with this seq\")\n"
      ]
    },
    {
      "cell_type": "markdown",
      "metadata": {},
      "source": [
        "**Question 2:** Use `_posterior_probabilities` to calculate the state probabilities for each state in the decoding of \"Data/mixed2.fa\" with HMM \"Data/humanMalaria.hmm\". How far away from 0.5 does it get (Max absolute difference)? How close to 0.5 does it get (Min absolute difference)? Would you say that the algorithm is very confident of its state calls overall, or not very confident?"
      ]
    },
    {
      "cell_type": "code",
      "execution_count": 35,
      "metadata": {},
      "outputs": [
        {
          "name": "stdout",
          "output_type": "stream",
          "text": [
            "Max absolute distance from 0.5: 0.055556\n",
            "Min absolute distance from 0.5: 0.045455\n",
            "\n",
            "Mean distance from 0.5: 0.048876\n",
            "Median distance from 0.5: 0.045455\n"
          ]
        }
      ],
      "source": [
        "# 5 points\n",
        "# YOUR CODE HERE\n",
        "\n",
        "DATA_DIR = os.path.join(os.getcwd(), \"Data\")\n",
        "\n",
        "# Load the HMM and sequence\n",
        "hmm = HMM.read_hmm_file(os.path.join(DATA_DIR, \"humanMalaria.hmm\"))\n",
        "sequences = HMM.read_fasta(os.path.join(DATA_DIR, \"mixed2.fa\"))\n",
        "\n",
        "posterior_prob = posterior_probabilities(observation_seq,hmm)\n",
        "max_prob = np.max(posterior_prob,axis=1)\n",
        "\n",
        "distances = np.abs(max_prob-0.5)\n",
        "max_distance = np.max(distances)\n",
        "min_distance = np.min(distances)\n",
        "\n",
        "\n",
        "print(f\"Max absolute distance from 0.5: {max_distance:.6f}\")\n",
        "print(f\"Min absolute distance from 0.5: {min_distance:.6f}\")\n",
        "print(f\"\\nMean distance from 0.5: {np.mean(distances):.6f}\")\n",
        "print(f\"Median distance from 0.5: {np.median(distances):.6f}\")\n"
      ]
    },
    {
      "cell_type": "markdown",
      "metadata": {},
      "source": [
        "No, the algorithm is very uncertain in its state calls as the algorithm makes prediction close to 50/50 probability."
      ]
    },
    {
      "cell_type": "markdown",
      "metadata": {},
      "source": [
        "**Question 3:** In the Viterbi decoding lab, you created a file \"tweakedHMM.hmm\" \n",
        "to try to get better accuracy than humanMalaria.hmm. Repeat questions 1 and 2 \n",
        "above for that HMM. Do Viterbi and posterior decoding give the same result? Is \n",
        "the posterior decoding more confident or less than it was with original HMM,\n",
        "humanMalaria.hmm? Before writing code, copy the \"tweakedHMM.hmm\" file into \n",
        "the Data subdirectory of this assignment."
      ]
    },
    {
      "cell_type": "code",
      "execution_count": 39,
      "metadata": {},
      "outputs": [
        {
          "name": "stdout",
          "output_type": "stream",
          "text": [
            "there is  92.03219247133606  similarity between viterbi & posterior with this seq/hmm\n",
            "\n",
            "Max distance from 0.5: 0.500000\n",
            "Min distance from 0.5: 0.000016\n",
            "Mean distance from 0.5: 0.334706\n",
            "\n",
            "Compared to humanMalaria.hmm mean distance of 0.048876\n"
          ]
        }
      ],
      "source": [
        "# 6 points\n",
        "tweaked_hmm_path = os.path.join(DATA_DIR, \"tweakedHMM.hmm\")\n",
        "tweaked_hmm = HMM.read_hmm_file(tweaked_hmm_path)\n",
        "\n",
        "posterior_seq = posterior_decode(observation_seq,tweaked_hmm)\n",
        "viterbi_seq = viterbi_decode(observation_seq,tweaked_hmm)\n",
        "\n",
        "length = len(posterior_seq)\n",
        "same_tweak = 0\n",
        "\n",
        "for i in range(length):\n",
        "    if(posterior_seq[i] == viterbi_seq[i]):\n",
        "        same_tweak+=1\n",
        "percent_agree = (same_tweak) / length * 100\n",
        "print(\"there is \",percent_agree,\" similarity between viterbi & posterior with this seq/hmm\")\n",
        "\n",
        "posterior_prob_tweak = posterior_probabilities(observation_seq,tweaked_hmm)\n",
        "max_prob = np.max(posterior_prob_tweak,axis=1)\n",
        "distances_tweaked = np.abs(max_prob-0.5)\n",
        "\n",
        "\n",
        " # YOUR CODE HERE\n",
        "print(f\"\\nMax distance from 0.5: {np.max(distances_tweaked):.6f}\")\n",
        "print(f\"Min distance from 0.5: {np.min(distances_tweaked):.6f}\")\n",
        "print(f\"Mean distance from 0.5: {np.mean(distances_tweaked):.6f}\")\n",
        "print(f\"\\nCompared to humanMalaria.hmm mean distance of {np.mean(distances):.6f}\")"
      ]
    },
    {
      "cell_type": "markdown",
      "metadata": {},
      "source": [
        "There is less similarity between the viterbi & posterior for the human malaria and the tweakedHMM. Even the distances between the probablities is different. It seems that there is more variance in max/min distances for the tweakedHMM, and it can produce a better guess at times."
      ]
    },
    {
      "cell_type": "markdown",
      "metadata": {},
      "source": [
        "**Question 4:** Make a file called **testHMM7.hmm** in the Data directory. \n",
        "Design it so that posterior and Viterbi decoding get different results when you \n",
        "evaluate the following calls. Below that, write a sentence or two explaining how \n",
        "you approached the problem.\n",
        "\n",
        "**Hints:**\n",
        "- you may need more than 2 or 3 states, but it can definitely be done with 4.\n",
        "- In designing your HMM, think about the difference between what Viterbi and posterior decoding are trying to do."
      ]
    },
    {
      "cell_type": "code",
      "execution_count": 64,
      "metadata": {},
      "outputs": [
        {
          "name": "stdout",
          "output_type": "stream",
          "text": [
            "HMM validity check: True\n"
          ]
        }
      ],
      "source": [
        "# Load and validate testHMM7.hmm\n",
        "hmm7_path = os.path.join(DATA_DIR, \"testHMM7.hmm\")\n",
        "hmm7 = HMM.read_hmm_file(hmm7_path)\n",
        "print(\"HMM validity check:\", hmm7.check_validity())"
      ]
    },
    {
      "cell_type": "code",
      "execution_count": 65,
      "metadata": {},
      "outputs": [
        {
          "name": "stdout",
          "output_type": "stream",
          "text": [
            "Viterbi result: ['B', 'B', 'B', 'B', 'B', 'B', 'B', 'B', 'B']\n"
          ]
        }
      ],
      "source": [
        "# Test with Viterbi\n",
        "test_seq = [0, 0, 0, 0, 0, 0, 0, 0, 0]  # Converted from Mathematica {1,1,1,1,1,1,1,1,1}\n",
        "viterbi_result_7 = viterbi_decode(test_seq, hmm7)\n",
        "print(\"Viterbi result:\", viterbi_result_7)"
      ]
    },
    {
      "cell_type": "code",
      "execution_count": 63,
      "metadata": {},
      "outputs": [
        {
          "name": "stdout",
          "output_type": "stream",
          "text": [
            "Posterior result: ['A', 'B', 'B', 'B', 'B', 'B', 'B', 'B', 'B']\n"
          ]
        }
      ],
      "source": [
        "# Test with Posterior\n",
        "posterior_result_7 = posterior_decode(test_seq, hmm7)\n",
        "print(\"Posterior result:\", posterior_result_7)"
      ]
    },
    {
      "cell_type": "markdown",
      "metadata": {},
      "source": [
        "**Explanation of approach for testHMM7:**\n",
        "\n",
        "*Write your explanation here about how you designed the HMM to produce different results between Viterbi and Posterior decoding. Consider:*\n",
        "- *What is the key difference between what Viterbi optimizes (best single path) vs. Posterior (marginal probability at each position)?*\n",
        "- *How can transition probabilities create a situation where the globally best path differs from the locally best state assignments?*"
      ]
    },
    {
      "cell_type": "markdown",
      "metadata": {},
      "source": [
        "The key difference between Viterbi vs Posterior is that viterbi finds that global optimal path through all the states but posterior finds the most likely state/probability at each position. I designed the testHMM to take advantage of this, firstly by having 4 different states to choose between. With only 2/3 states, I was not able to produce a different result between the two algos. I used an HMM that had a state with a high emission probabilities and a high transition probability. This made it likely for posterior decoding algo to pick a state that has a higher emission probability compared to the others."
      ]
    },
    {
      "cell_type": "markdown",
      "metadata": {},
      "source": []
    }
  ],
  "metadata": {
    "kernelspec": {
      "display_name": "non-package-mode-py3.10",
      "language": "python",
      "name": "python3"
    },
    "language_info": {
      "codemirror_mode": {
        "name": "ipython",
        "version": 3
      },
      "file_extension": ".py",
      "mimetype": "text/x-python",
      "name": "python",
      "nbconvert_exporter": "python",
      "pygments_lexer": "ipython3",
      "version": "3.10.12"
    }
  },
  "nbformat": 4,
  "nbformat_minor": 4
}
